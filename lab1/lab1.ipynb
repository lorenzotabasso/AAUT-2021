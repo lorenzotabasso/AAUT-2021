{
 "cells": [
  {
   "cell_type": "code",
   "execution_count": null,
   "metadata": {},
   "outputs": [],
   "source": [
    "import numpy as np\n",
    "import time\n",
    "import math"
   ]
  },
  {
   "cell_type": "markdown",
   "metadata": {},
   "source": [
    "# Vector operations"
   ]
  },
  {
   "cell_type": "code",
   "execution_count": null,
   "metadata": {},
   "outputs": [],
   "source": [
    "SIZE = int(1E6)\n",
    "\n",
    "x = np.random.uniform(size=SIZE)\n",
    "y = np.random.uniform(size=SIZE)"
   ]
  },
  {
   "cell_type": "markdown",
   "metadata": {},
   "source": [
    "## Dot Product\n",
    "Il senso qui è che ci conviene usare le librerie, e non funzioni definite da noi, perché sono ottimizzate."
   ]
  },
  {
   "cell_type": "code",
   "execution_count": null,
   "metadata": {
    "tags": []
   },
   "outputs": [],
   "source": [
    "# our version of dot product\n",
    "start = time.time()\n",
    "sum = 0.0\n",
    "for i in range(SIZE):\n",
    "    sum += x[i] * y[i]\n",
    "print(\"Sum: {}\".format(sum))\n",
    "end = time.time()\n",
    "print(\"Time of our version: {}\\n\".format(end - start))\n",
    "\n",
    "# Numpy version of dot product\n",
    "start = time.time()\n",
    "dot_product = x.dot(y)\n",
    "print(\"Dot product: {}\".format(dot_product))\n",
    "end = time.time()\n",
    "print(\"Time of Numpy version: {}\".format(end - start))"
   ]
  },
  {
   "cell_type": "markdown",
   "metadata": {},
   "source": [
    "## Evaluating ||x - y||_2 (norm 2)"
   ]
  },
  {
   "cell_type": "code",
   "execution_count": null,
   "metadata": {
    "tags": []
   },
   "outputs": [],
   "source": [
    "total = 0.0\n",
    "\n",
    "z = np.zeros(SIZE)\n",
    "for i in range(SIZE):\n",
    "    total += math.pow(x[i] - y[i], 2)\n",
    "total = math.sqrt(total)\n",
    "print(total)\n",
    "\n",
    "z = np.subtract(x,y)\n",
    "t = np.linalg.norm(x - y)\n",
    "print(t)"
   ]
  }
 ],
 "metadata": {
  "kernelspec": {
   "name": "python_defaultSpec_1601540457054",
   "display_name": "Python 3.7.6 64-bit ('base': conda)",
   "metadata": {
    "interpreter": {
     "hash": "aee8b7b246df8f9039afb4144a1f6fd8d2ca17a180786b69acc140d282b71a49"
    }
   }
  },
  "language_info": {
   "codemirror_mode": {
    "name": "ipython",
    "version": 3
   },
   "file_extension": ".py",
   "mimetype": "text/x-python",
   "name": "python",
   "nbconvert_exporter": "python",
   "pygments_lexer": "ipython3",
   "version": "3.7.6-final"
  }
 },
 "nbformat": 4,
 "nbformat_minor": 4
}