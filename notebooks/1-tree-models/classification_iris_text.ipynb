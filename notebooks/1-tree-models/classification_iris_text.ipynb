{
 "cells": [
  {
   "cell_type": "markdown",
   "metadata": {
    "id": "KEKy3XmT7H-U"
   },
   "source": [
    "# Classifiers introduction - Exercise text\n",
    "\n",
    "In the following program we introduce the basic steps of classification of a dataset in a matrix"
   ]
  },
  {
   "cell_type": "markdown",
   "metadata": {
    "id": "btrnWCpJ7H-W"
   },
   "source": [
    "Importing the packages for this exercise."
   ]
  },
  {
   "cell_type": "code",
   "execution_count": null,
   "metadata": {
    "id": "QFXKb7yA7H-X",
    "scrolled": true
   },
   "outputs": [],
   "source": [
    "import numpy as np\n",
    "import graphviz\n",
    "from sklearn import tree\n",
    "from sklearn.datasets import load_iris\n",
    "from sklearn.metrics import accuracy_score\n",
    "from sklearn.metrics import f1_score\n",
    "from sklearn.model_selection import cross_val_score # will be used to separate training and test"
   ]
  },
  {
   "cell_type": "markdown",
   "metadata": {
    "id": "1Sx9T_yz7H-f"
   },
   "source": [
    "Define the matrix containing the data (one example per row) and the vector containing the corresponding target value."
   ]
  },
  {
   "cell_type": "code",
   "execution_count": null,
   "metadata": {
    "id": "HDFiRDXq7H-g"
   },
   "outputs": [],
   "source": [
    "X = [[0, 0, 0], [1, 1, 1], [0, 1, 0], [0, 0, 1], [1, 1, 0], [1, 0, 1]]  # simple initial dataset\n",
    "Y = [1, 0, 0, 0, 1, 1]"
   ]
  },
  {
   "cell_type": "markdown",
   "metadata": {
    "id": "VLgMBwpZ7H-n"
   },
   "source": [
    "Declare the classification model you want to use and then fit the model to the data."
   ]
  },
  {
   "cell_type": "code",
   "execution_count": null,
   "metadata": {
    "id": "RbHJM2ur7H-o"
   },
   "outputs": [],
   "source": [
    "clf = tree.DecisionTreeClassifier()\n",
    "clf = clf.fit(X, Y)"
   ]
  },
  {
   "cell_type": "markdown",
   "metadata": {
    "id": "lUtyP-xO7H-t"
   },
   "source": [
    "Predict the target value (and print it) for the passed data, using the fitted model currently in clf."
   ]
  },
  {
   "cell_type": "code",
   "execution_count": null,
   "metadata": {
    "id": "RTo8XvPr7H-v",
    "outputId": "f2c67b3c-9ce6-4dfb-e69f-ce9120823c53"
   },
   "outputs": [],
   "source": [
    "print(clf.predict([[0, 1, 1]])) # note: [0 1 1] not yet in the matrix"
   ]
  },
  {
   "cell_type": "code",
   "execution_count": null,
   "metadata": {
    "id": "ncK8CxO17H-0",
    "outputId": "5f2abb14-eb54-4b2e-b1af-cdc13bc6a40e"
   },
   "outputs": [],
   "source": [
    "print(clf.predict([[1, 0, 1],[0, 0, 1]]))  # note: both example are in the matrix\n",
    "# Here, the output is [1 0], which is a vector of label. Each label is the prediction of he given classes"
   ]
  },
  {
   "cell_type": "code",
   "execution_count": null,
   "metadata": {
    "id": "qP9sNQ2t7H-5",
    "outputId": "7b57e3de-e2a2-4b38-f699-c6c2106e1bf0"
   },
   "outputs": [],
   "source": [
    "dot_data = tree.export_graphviz(clf, out_file=None)\n",
    "graph = graphviz.Source(dot_data)\n",
    "graph"
   ]
  },
  {
   "cell_type": "markdown",
   "metadata": {
    "id": "9oCMYXsO7H--"
   },
   "source": [
    "In the following cells, we start using the Iris dataset (from UCI Machine Learning repository)"
   ]
  },
  {
   "cell_type": "code",
   "execution_count": null,
   "metadata": {
    "id": "QICMJ0rv7H-_"
   },
   "outputs": [],
   "source": [
    "iris = load_iris()"
   ]
  },
  {
   "cell_type": "markdown",
   "metadata": {
    "id": "JzZnLA4N7H_D"
   },
   "source": [
    "# Declare the type of prediction model and the working criteria for the model induction algorithm\n",
    "\n",
    "**Note**: from now on, we will use **two important parameters**:\n",
    "\n",
    "1. ```min_sample_spit```: used to control **overfitting** in **internal nodes**, \n",
    "2. ```min_sample_leaf```: used to control **overfitting** in **leaves**.\n"
   ]
  },
  {
   "cell_type": "code",
   "execution_count": null,
   "metadata": {
    "id": "Ul-cA4Hv7H_E"
   },
   "outputs": [],
   "source": [
    "clf = tree.DecisionTreeClassifier(criterion=\"entropy\", random_state=300, min_samples_leaf=5, class_weight={0:1,1:1,2:1})"
   ]
  },
  {
   "cell_type": "markdown",
   "metadata": {
    "id": "iqH8H1UD7H_H"
   },
   "source": [
    "# Split the dataset in training and test set"
   ]
  },
  {
   "cell_type": "code",
   "execution_count": null,
   "metadata": {
    "id": "gSKsWOoz7H_I"
   },
   "outputs": [],
   "source": [
    "# Generate a random permutation of the indices of examples that will be later used for the training and the test set\n",
    "np.random.seed(0)\n",
    "\n",
    "# randomly choose the indices of some entries to put in the training set\n",
    "indices = np.random.permutation(len(iris.data)) # we use the randomly generated indices for training later\n",
    "# For debug if needed:\n",
    "#print(\"Random indexes:\\n{0}\\n\".format(indices))\n",
    "\n",
    "# We now decide to keep the last 10 indices for test set, the remaining for the training set\n",
    "indices_training=indices[:-10]\n",
    "indices_test=indices[-10:]\n",
    "\n",
    "# For debug if needed:\n",
    "#print(\"Training indexes:\\n{0}\\n\".format(indices_training))\n",
    "#print(\"Test indexes:\\n{0}\".format(indices_test))\n",
    "\n",
    "iris_X_train = iris.data[indices_training] # keep for training all the matrix elements with the exception of the last 10 \n",
    "iris_y_train = iris.target[indices_training]\n",
    "iris_X_test  = iris.data[indices_test] # keep the last 10 elements for test set\n",
    "iris_y_test  = iris.target[indices_test]"
   ]
  },
  {
   "cell_type": "markdown",
   "metadata": {
    "id": "vNbXUYI07H_K"
   },
   "source": [
    "# Fit the learning model on training set"
   ]
  },
  {
   "cell_type": "code",
   "execution_count": null,
   "metadata": {
    "id": "1A3MqXZs7H_L"
   },
   "outputs": [],
   "source": [
    "# Fit the model to the training data\n",
    "clf = clf.fit(iris_X_train, iris_y_train)"
   ]
  },
  {
   "cell_type": "markdown",
   "metadata": {
    "id": "FPdjlWZB7H_P"
   },
   "source": [
    "# Obtain predictions"
   ]
  },
  {
   "cell_type": "code",
   "execution_count": null,
   "metadata": {
    "id": "qMP6rS-97H_P",
    "outputId": "e0f9707c-5465-4128-9eb2-0c43f4a3f75b"
   },
   "outputs": [],
   "source": [
    "# Apply fitted model \"clf\" to the test set \n",
    "predicted_y_test = clf.predict(iris_X_test)\n",
    "\n",
    "# Print the predictions (class numbers associated to classes names in target names)\n",
    "print(\"Predictions: \\t{0}\".format(predicted_y_test))\n",
    "print(\"True classes:\\t{0}\".format(iris_y_test))\n",
    "print(\"Iris target names: {0}\".format({k:v for k,v in enumerate(iris.target_names, start=0)}))"
   ]
  },
  {
   "cell_type": "markdown",
   "metadata": {
    "id": "8TZyuYLx7H_T"
   },
   "source": [
    "Print the index of the test instances and the corresponding predictions"
   ]
  },
  {
   "cell_type": "code",
   "execution_count": null,
   "metadata": {
    "id": "qRz0f9NK7H_T",
    "outputId": "4a04bd5b-ee05-491d-8cac-adcfd17fb81f"
   },
   "outputs": [],
   "source": [
    "# Print the corresponding instances indexes and class names \n",
    "for i in range(len(iris_y_test)): \n",
    "    print(\"Instance # {0}:\".format(indices_test[i]))\n",
    "    print(\"Predicted: {0}\\t True: {1}\\n\".format(iris.target_names[predicted_y_test[i]], iris.target_names[iris_y_test[i]]))"
   ]
  },
  {
   "cell_type": "markdown",
   "metadata": {
    "id": "yj3hYAqQ7H_W"
   },
   "source": [
    "# Look at the specific examples"
   ]
  },
  {
   "cell_type": "code",
   "execution_count": null,
   "metadata": {
    "id": "HGKB-S6b7H_X",
    "outputId": "819c7ba9-56a8-41dc-f61e-d59a1a893ffe"
   },
   "outputs": [],
   "source": [
    "for i in range(len(iris_y_test)): \n",
    "    print(\"Instance # {0} {1}:\".format(i, indices_test))\n",
    "    s = \"\"\n",
    "    for j in range(len(iris.feature_names)):\n",
    "        s = s + iris.feature_names[j] + \"=\" + str(iris_X_test[i][j])\n",
    "        if j<len(iris.feature_names)-1: s = s + \", \"\n",
    "    print(s)\n",
    "    print(\"Predicted: \"+iris.target_names[predicted_y_test[i]]+\"\\t True: \"+iris.target_names[iris_y_test[i]]+\"\\n\")"
   ]
  },
  {
   "cell_type": "markdown",
   "metadata": {
    "id": "r9zos0wm7H_Z"
   },
   "source": [
    "# Obtain model performance results"
   ]
  },
  {
   "cell_type": "code",
   "execution_count": null,
   "metadata": {
    "id": "HBNKQQqa7H_a",
    "outputId": "09c73bd7-5f55-4409-8958-0705aa4b73be"
   },
   "outputs": [],
   "source": [
    "# Print some metrics results\n",
    "acc_score = accuracy_score(iris_y_test, predicted_y_test)\n",
    "print(\"Accuracy score: {0} = {0:.0%}\".format(acc_score))\n",
    "f1=f1_score(iris_y_test, predicted_y_test, average='macro')\n",
    "print(\"F1 score: {0}\".format(f1))"
   ]
  },
  {
   "cell_type": "markdown",
   "metadata": {
    "id": "MNO0xcGq7H_c"
   },
   "source": [
    "# Use Cross Validation and comparison with F1 Score"
   ]
  },
  {
   "cell_type": "code",
   "execution_count": null,
   "metadata": {
    "id": "wmt414Lm7H_c",
    "outputId": "da09947d-d490-4717-cd7c-c2c544a0d261"
   },
   "outputs": [],
   "source": [
    "# Cross_val_score will be used to separate training and test\n",
    "iris = load_iris()\n",
    "clf = tree.DecisionTreeClassifier(criterion=\"entropy\", random_state=300, min_samples_leaf=5, class_weight={0:1,1:1,2:1})\n",
    "clf = clf.fit(iris.data, iris.target)\n",
    "\n",
    "scores = cross_val_score(clf, iris.data, iris.target, cv=5) # score will be the accuracy. cv=5 -> 5 folds\n",
    "print(\"Cross-validation scores:\\t{0}\".format(scores))\n",
    "\n",
    "# Computes F1-score\n",
    "f1_scores = cross_val_score(clf, iris.data, iris.target, cv=5, scoring='f1_macro')\n",
    "print(\"F1 scores:\\t\\t\\t{0}\".format(f1_scores))"
   ]
  },
  {
   "cell_type": "markdown",
   "metadata": {
    "id": "qcnegz_A7H_h"
   },
   "source": [
    "# Show the resulting tree "
   ]
  },
  {
   "cell_type": "markdown",
   "metadata": {
    "id": "hrA-f0e27H_i"
   },
   "source": [
    "## 1. Print the picture in a PDF file"
   ]
  },
  {
   "cell_type": "code",
   "execution_count": null,
   "metadata": {
    "id": "rPYEWkcH7H_i",
    "outputId": "28d4261a-7ad1-47a1-ab5d-a0583bfc014d"
   },
   "outputs": [],
   "source": [
    "dot_data = tree.export_graphviz(clf, out_file=None) \n",
    "graph = graphviz.Source(dot_data) \n",
    "graph.render(\"./figures/my_iris_predictions\")"
   ]
  },
  {
   "cell_type": "markdown",
   "metadata": {
    "id": "iM67N3vc7H_k"
   },
   "source": [
    "## 2. Generate a picture here"
   ]
  },
  {
   "cell_type": "code",
   "execution_count": null,
   "metadata": {
    "id": "prgjDOka7H_l",
    "outputId": "2263ea70-f260-4933-80f3-63bc23d00ace"
   },
   "outputs": [],
   "source": [
    "print(list(iris.feature_names))\n",
    "print(list(iris.target_names))"
   ]
  },
  {
   "cell_type": "code",
   "execution_count": null,
   "metadata": {
    "id": "Pr32sBno7H_n",
    "outputId": "6f741234-c217-448b-b711-ed46e541e862"
   },
   "outputs": [],
   "source": [
    "dot_data = tree.export_graphviz(clf, out_file=None, \n",
    "                         feature_names=iris.feature_names, \n",
    "                         class_names=iris.target_names, \n",
    "                         filled=True, rounded=True,  \n",
    "                         special_characters=True)  \n",
    "graph = graphviz.Source(dot_data)  \n",
    "graph"
   ]
  },
  {
   "cell_type": "markdown",
   "metadata": {
    "id": "zzHbGJsTOoQU"
   },
   "source": []
  },
  {
   "cell_type": "markdown",
   "metadata": {
    "id": "90GvIMjgeUue"
   },
   "source": [
    "# Your work: what you have to do\n",
    "Modify the given Jupyter notebook on decision trees on Iris data and perform the following tasks:\n",
    "\n",
    "1. get an artificial inflation of some class in the training set by a given factor: 10 (weigh more the classes virginica e versicolor which are more difficult to discriminate). Learn the tree in these conditions.\n",
    "2. modify the weight of some classes (set to 10 the weights for misclassification between virginica into versicolor and vice versa) and learn the tree in these conditions. You should obtain similar results as for step \n",
    "3. learn trees but try to avoid overfitting (by improving the error on the test set) tuning the hyper-parameters on: the minimum number of samples per leaf, max depth of the tree, min_impurity_decrease parameters, max leaf nodes, etc. Use misclassification error.\n",
    "4. build the confusion matrix of the created tree models on the test set and show them. \n",
    "5. build the ROC curves (or coverage curves in coverage space) and plot them for each tree model you have created: for each model you have to build three curves, one for each class, considered in turn as the positive class. (1-vs-rest model)\n",
    "\n",
    "for the last point, 2 possibility: \n",
    "\n",
    "1. implement yourself the function which you need\n",
    "2. or go in sklearn is there is thew empirical probability. Decision tree can be sed to compute classification probability of the class. In this case the teacher may ask you to explain which function you have used. (clf.predict_proba - Probability prediction foreach classifier)"
   ]
  },
  {
   "cell_type": "code",
   "execution_count": null,
   "metadata": {},
   "outputs": [],
   "source": [
    "#help(tree._tree.Tree) # Help of sklearn.tree"
   ]
  },
  {
   "cell_type": "code",
   "execution_count": null,
   "metadata": {},
   "outputs": [],
   "source": []
  }
 ],
 "metadata": {
  "anaconda-cloud": {},
  "colab": {
   "name": "classification_iris_aa_19_20.ipynb",
   "provenance": [],
   "toc_visible": true
  },
  "kernelspec": {
   "display_name": "Python 3",
   "language": "python",
   "name": "python3"
  },
  "language_info": {
   "codemirror_mode": {
    "name": "ipython",
    "version": 3
   },
   "file_extension": ".py",
   "mimetype": "text/x-python",
   "name": "python",
   "nbconvert_exporter": "python",
   "pygments_lexer": "ipython3",
   "version": "3.8.5"
  }
 },
 "nbformat": 4,
 "nbformat_minor": 4
}