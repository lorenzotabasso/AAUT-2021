{
 "cells": [
  {
   "cell_type": "code",
   "execution_count": 17,
   "metadata": {},
   "outputs": [],
   "source": [
    "import numpy as np\n",
    "from scipy.sparse import csr_matrix\n",
    "import matplotlib.pyplot as plt\n",
    "from sklearn.model_selection import train_test_split\n",
    "from sklearn.naive_bayes import BernoulliNB, MultinomialNB\n",
    "\n",
    "# Metrics\n",
    "from sklearn.metrics import accuracy_score\n",
    "from sklearn.metrics import f1_score, plot_roc_curve\n",
    "\n",
    "# Statistical Tests\n",
    "from sklearn.model_selection import cross_val_score\n",
    "from scipy.stats import ttest_ind"
   ]
  },
  {
   "cell_type": "markdown",
   "metadata": {
    "id": "7vWhC1-mMyop"
   },
   "source": [
    "# Classifiers comparison on texts with naive Bayes assumption\n",
    "\n",
    "In this session of laboratory we compare two models for categorical data probabilistic modeling: \n",
    "\n",
    "1. multivariate Bernoulli \n",
    "2. multinomial on a dataset \n",
    "\n",
    "We adopt a dataset on Twitter messages labelled with emotions (Joy vs Sadness)."
   ]
  },
  {
   "cell_type": "markdown",
   "metadata": {
    "id": "i70pgsCOMyop"
   },
   "source": [
    "Data are loaded into a matrix X adopting a sparse matrix representation, in order to save space and time.\n",
    "Sparse matrix representation (in the csr format) represents in three \"parallel\" arrays the value of the matrix cells that are different from zero and the indices of those matrix cells.\n",
    "The arrays are called: \n",
    "\n",
    "1. data\n",
    "2. row\n",
    "3. col\n",
    "\n",
    "More specifically:\n",
    "\n",
    "- $data_i$ stores the value of the matrix cell $i$ whose indexes are contained in $row_i$ and $col_i$\n",
    "- $row_i$ stores the index of the row in the matrix of the cell $i$,\n",
    "- $col_i$ stores the index of the column of the cell $i$.\n"
   ]
  },
  {
   "cell_type": "markdown",
   "metadata": {
    "id": "Sktoeaw5Myop"
   },
   "source": [
    "The data file is in CSV format.\n",
    "\n",
    "Any Twitter message has been preprocessed by a Natural Language pipeline which eliminated stop words and substituted the interesting document elements with an integer identifier.\n",
    "\n",
    "The interesting document elements might be words, emoji or emoticons. The elements could be repeated in the same document and are uniquely identified in the documents by the same integer number (named \"element_id\" in the program). This \"element_id\" number will be used as the index of the column of the data matrix, for the purposes of storage of data.\n",
    "\n",
    "Each row of the CSV file reports the content of a document (a Twitter message).It is formed as a list of integer number pairs, followed by a string which is the label of the document (\"Joy\" or \"Sadness\").\n",
    "The first number of the pair is the identifier of a document element (the \"element_id\"); \n",
    "the second number of the pair is the count (frequency) of that element in that document.\n",
    "\n",
    "The dataset has:\n",
    "\n",
    "- tot_n_docs (or rows in the file) =n_rows=11981\n",
    "- n_features (total number of distinct words in the corpus)=11288"
   ]
  },
  {
   "cell_type": "markdown",
   "metadata": {
    "id": "Phlf-MPAMyop"
   },
   "source": [
    "The following program reads the data file and loads in a sparse way the matrix using the scipy.sparse library"
   ]
  },
  {
   "cell_type": "code",
   "execution_count": 9,
   "metadata": {
    "colab": {
     "base_uri": "https://localhost:8080/"
    },
    "id": "rMyi3U-ZMyop",
    "outputId": "39724efe-040d-470e-dd16-6ccf319e797a",
    "tags": []
   },
   "outputs": [
    {
     "name": "stdout",
     "output_type": "stream",
     "text": [
      "resulting matrix:\n",
      "\n",
      "Size of labels , 11981\n",
      "Size of targets, 11981\n",
      "Shape of the resulting matrxix, (11981, 11288)\n"
     ]
    }
   ],
   "source": [
    "class_labels = [\"Joy\", \"Sadness\"]\n",
    "\n",
    "# number of columns in the matrix = number of features\n",
    "# (distinct elements in the documents)\n",
    "n_features = 11288\n",
    "\n",
    "# number rows of the matrix\n",
    "n_rows = 11981\n",
    "\n",
    "# number of the existing values in the matrix\n",
    "# (not empty, to be loaded in the matrix in a sparse way)\n",
    "n_elements = 71474\n",
    "\n",
    "\n",
    "path_training = \"../../data/raw/\"\n",
    "file_name = \"dataset-4-joy_sadness6000.txt\"\n",
    "\n",
    "# declare the row and col arrays with the indexes of the matrix cells\n",
    "# (non empty) to be loaded from file. They are needed because the matrix\n",
    "# is sparse and we load in the matrix only the elements which are present.\n",
    "row = np.empty(n_elements, dtype=int)\n",
    "col = np.empty(n_elements, dtype=int)\n",
    "data = np.empty(n_elements, dtype=int)\n",
    "\n",
    "# number of current row to be read and managed\n",
    "row_n = 0\n",
    "\n",
    "# position in the three arrays: row, col and data\n",
    "cur_el = 0\n",
    "\n",
    "# list of class labels (target array) of the documents (twitter)\n",
    "# that will be read from the input file.\n",
    "twitter_labels = []\n",
    "\n",
    "# list of 0/1 for class labels\n",
    "twitter_target = []\n",
    "\n",
    "with open(path_training + file_name, \"r\") as fi:\n",
    "    for line in fi:\n",
    "        el_list = line.split(',')  # list of integers read from a row of the file\n",
    "\n",
    "        # I grab the last element in the list which is the class label\n",
    "        last_el = el_list[len(el_list) - 1]\n",
    "\n",
    "        # delete the '\\n'\n",
    "        class_name = last_el.strip()\n",
    "        twitter_labels.append(class_name)\n",
    "\n",
    "        # twitter_labels contains the labels (Joy/Sadness) and\n",
    "        # twitter_target contains 0/1 for the respective labels\n",
    "\n",
    "        if (class_name == class_labels[0]):\n",
    "            twitter_target.append(0)\n",
    "        else:\n",
    "            twitter_target.append(1)\n",
    "\n",
    "        # I start reading all the doc elements from the beginning of the list\n",
    "        i = 0\n",
    "        while(i < (len(el_list) - 1)):\n",
    "            # identifier of the element in the document equivalent to\n",
    "            # the column index.\n",
    "            element_id = int(el_list[i])\n",
    "            # the index starts from 0 (the read id starts from 1).\n",
    "            element_id = element_id-1\n",
    "            i += 1\n",
    "\n",
    "            # make access to the following value in the file which is the\n",
    "            # count of the element in the document.\n",
    "            value_cell = int(el_list[i])\n",
    "            i += 1\n",
    "\n",
    "            # load the data in the three arrays: the first two are the row\n",
    "            # and col indexes; the last one is the matrix cell value.\n",
    "            row[cur_el] = row_n\n",
    "            col[cur_el] = element_id\n",
    "            data[cur_el] = value_cell\n",
    "            cur_el += 1\n",
    "        row_n += 1\n",
    "fi.close\n",
    "\n",
    "# print(f\"final n_row={row}\")\n",
    "# loads the matrix by means of the indexes and the values in the three\n",
    "# arrays just filled\n",
    "twitter_data = csr_matrix((data, (row, col)),\n",
    "                          shape=(n_rows, n_features)).toarray()\n",
    "\n",
    "print(\"resulting matrix:\")\n",
    "# print(twitter_data)\n",
    "# print(twitter_labels)\n",
    "# print(twitter_target)\n",
    "\n",
    "print(f'\\nSize of labels , {len(twitter_labels)}')\n",
    "print(f'Size of targets, {len(twitter_target)}')\n",
    "print(f'Shape of the resulting matrxix, {twitter_data.shape}')"
   ]
  },
  {
   "cell_type": "markdown",
   "metadata": {},
   "source": [
    "## TODO: your work!"
   ]
  },
  {
   "cell_type": "markdown",
   "metadata": {
    "id": "v4FHZONyMyoq"
   },
   "source": [
    "### Step 1\n",
    "\n",
    "Write a program in the following cell that splits the data matrix in training and test set (by random selection) and predicts the class (Joy/Sadness) of the messages on the basis of the words. \n",
    "Consider the two possible models:\n",
    "multivariate Bernoulli and multinomial Bernoulli.\n",
    "Find the accuracy of the models and test is the observed differences are significant."
   ]
  },
  {
   "cell_type": "code",
   "execution_count": 13,
   "metadata": {},
   "outputs": [],
   "source": [
    "# Split the data in training set and test set\n",
    "X_train, X_test, y_train, y_test = train_test_split(twitter_data,\n",
    "                                                    twitter_target,\n",
    "                                                    test_size=0.10,\n",
    "                                                    random_state=42)\n",
    "\n",
    "# Normalize the data betwenn 0 and 1 with np.clip. Used later for the\n",
    "# BernulliNB classifier. (BernoulliNB = Naive Bayes classifier for\n",
    "# multivariate Bernoulli models).\n",
    "X_train_cl = np.clip(X_train, 0, 1)\n",
    "y_train_cl = np.clip(y_train, 0, 1)"
   ]
  },
  {
   "cell_type": "markdown",
   "metadata": {},
   "source": [
    "#### Multivariate Bernoulli"
   ]
  },
  {
   "cell_type": "code",
   "execution_count": 14,
   "metadata": {},
   "outputs": [
    {
     "name": "stdout",
     "output_type": "stream",
     "text": [
      "Accuracy score:\t0.9499582985821518\n",
      "F1 score:\t0.9499540863177227\n"
     ]
    },
    {
     "data": {
      "image/png": "[encoded data removed]",
      "text/plain": [
       "<Figure size 432x288 with 1 Axes>"
      ]
     },
     "metadata": {
      "needs_background": "light"
     },
     "output_type": "display_data"
    }
   ],
   "source": [
    "# BernoulliNB. A Naive Bayes classifier for multivariate Bernoulli models.\n",
    "bern_clf = BernoulliNB().fit(X=X_train_cl, y=y_train_cl)\n",
    "bern_y_pred = bern_clf.predict(X_test)\n",
    "\n",
    "print(\"Accuracy score:\\t{}\".format(accuracy_score(y_test, bern_y_pred)))\n",
    "\n",
    "# The F1 score can be interpreted as a weighted average of the precision and\n",
    "# recall, where an F1 score reaches its best value at 1 and worst score at 0.\n",
    "f1 = f1_score(y_test, bern_y_pred, average='macro')\n",
    "print(\"F1 score:\\t{}\".format(f1))\n",
    "\n",
    "bern_disp = plot_roc_curve(bern_clf, X_test, y_test)"
   ]
  },
  {
   "cell_type": "markdown",
   "metadata": {},
   "source": [
    "#### Multinominal Bernoulli"
   ]
  },
  {
   "cell_type": "code",
   "execution_count": 15,
   "metadata": {},
   "outputs": [
    {
     "name": "stdout",
     "output_type": "stream",
     "text": [
      "Accuracy score:\t0.9491242702251876\n",
      "F1 score:\t0.9491152089442687\n"
     ]
    },
    {
     "data": {
      "image/png": "[encoded data removed]",
      "text/plain": [
       "<Figure size 432x288 with 1 Axes>"
      ]
     },
     "metadata": {
      "needs_background": "light"
     },
     "output_type": "display_data"
    }
   ],
   "source": [
    "# MultinomialNB. A Naive Bayes classifier for multinominal models.\n",
    "multi_clf = MultinomialNB().fit(X=X_train, y=y_train)\n",
    "multi_y_pred = multi_clf.predict(X_test)\n",
    "\n",
    "print(\"Accuracy score:\\t{}\".format(accuracy_score(y_test, multi_y_pred)))\n",
    "\n",
    "# The F1 score can be interpreted as a weighted average of the precision and\n",
    "# recall, where an F1 score reaches its best value at 1 and worst score at 0.\n",
    "f1 = f1_score(y_test, multi_y_pred, average='macro')\n",
    "print(\"F1 score:\\t{}\".format(f1))\n",
    "\n",
    "multi_disp = plot_roc_curve(multi_clf, X_test, y_test)"
   ]
  },
  {
   "cell_type": "markdown",
   "metadata": {},
   "source": [
    "#### Comparison of Multivariate and Multinominal Bernoulli"
   ]
  },
  {
   "cell_type": "code",
   "execution_count": 16,
   "metadata": {},
   "outputs": [
    {
     "data": {
      "text/plain": [
       "<sklearn.metrics._plot.roc_curve.RocCurveDisplay at 0x7f87102010a0>"
      ]
     },
     "execution_count": 16,
     "metadata": {},
     "output_type": "execute_result"
    },
    {
     "data": {
      "image/png": "[encoded data removed]",
      "text/plain": [
       "<Figure size 1080x360 with 3 Axes>"
      ]
     },
     "metadata": {
      "needs_background": "light"
     },
     "output_type": "display_data"
    }
   ],
   "source": [
    "# Printing Multinomial accuracy over previous Bernoulli\n",
    "fig, (ax1, ax2, ax3) = plt.subplots(1, 3, figsize=(15,5))\n",
    "\n",
    "ax1.set_title(\"BernoulliNB\")\n",
    "ax2.set_title(\"MultinomialNB\")\n",
    "ax3.set_title(\"BernoulliNB VS MultinomialNB\")\n",
    "\n",
    "bern_disp.plot(ax=ax1)\n",
    "multi_disp.plot(ax=ax2)\n",
    "bern_disp.plot(ax=ax3)\n",
    "multi_disp.plot(ax=ax3)"
   ]
  },
  {
   "cell_type": "markdown",
   "metadata": {},
   "source": [
    "### Step 2 - Statistic Test\n",
    "\n",
    "Statistical test to determine whether observed differences are statistically significant between probabilistic classifiers on Multivariate and Multinomial texts\n"
   ]
  },
  {
   "cell_type": "markdown",
   "metadata": {},
   "source": [
    "#### Cross Val Score"
   ]
  },
  {
   "cell_type": "code",
   "execution_count": 18,
   "metadata": {},
   "outputs": [
    {
     "name": "stdout",
     "output_type": "stream",
     "text": [
      "BernulliNB:\n",
      "1: 0.9566305254378649\n",
      "2: 0.9657762938230384\n",
      "3: 0.9499165275459098\n",
      "4: 0.9499165275459098\n",
      "5: 0.9482470784641068\n",
      "6: 0.9524207011686143\n",
      "7: 0.9507512520868113\n",
      "8: 0.9549248747913188\n",
      "9: 0.9624373956594324\n",
      "10: 0.9365609348914858\n",
      "\n",
      "Accuracy: 0.95 (+/- 0.02)\n",
      "\n",
      "Multinomial:\n",
      "1: 0.9541284403669725\n",
      "2: 0.9649415692821369\n",
      "3: 0.9499165275459098\n",
      "4: 0.9482470784641068\n",
      "5: 0.9440734557595993\n",
      "6: 0.9474123539232053\n",
      "7: 0.9490818030050083\n",
      "8: 0.9499165275459098\n",
      "9: 0.9616026711185309\n",
      "10: 0.9373956594323873\n",
      "\n",
      "Accuracy: 0.95 (+/- 0.02)\n",
      "\n"
     ]
    }
   ],
   "source": [
    "FOLD = 10\n",
    "\n",
    "# Bernulli multivariate\n",
    "clf_BNB = BernoulliNB()\n",
    "scores_BNB = cross_val_score(clf_BNB, twitter_data, twitter_target, cv=FOLD)\n",
    "print(\"BernulliNB:\")\n",
    "# print (scores_BNB)  # array-like print\n",
    "for (index, value) in enumerate(scores_BNB, start=1):\n",
    "    print(\"{0}: {1}\".format(index, value))\n",
    "\n",
    "print(\"\\nAccuracy: {0:.2f} (+/- {1:.2f})\\n\".format(scores_BNB.mean(),\n",
    "                                                   scores_BNB.std() * 2))\n",
    "\n",
    "# Bernulli multinomial\n",
    "clf_MNB = MultinomialNB()\n",
    "scores_MNB = cross_val_score(clf_MNB , twitter_data ,  twitter_target, cv=FOLD)\n",
    "print(\"Multinomial:\")\n",
    "# print (scores_MNB) # array-like print\n",
    "for (index, value) in enumerate(scores_MNB, start=1):\n",
    "    print(\"{0}: {1}\".format(index, value))\n",
    "\n",
    "print(\"\\nAccuracy: {0:.2f} (+/- {1:.2f})\\n\".format(scores_MNB.mean(),\n",
    "                                                   scores_MNB.std() * 2))"
   ]
  },
  {
   "cell_type": "markdown",
   "metadata": {},
   "source": [
    "\n",
    "#### T-Test"
   ]
  },
  {
   "cell_type": "code",
   "execution_count": 19,
   "metadata": {},
   "outputs": [
    {
     "name": "stdout",
     "output_type": "stream",
     "text": [
      "Alpha: 0.050\n",
      "T-statistic: 0.5809918432440697\n",
      "P-value: 0.568\n",
      "\n",
      "P-value >= Alpha ---> Same distribution (fail to reject H0)\n"
     ]
    }
   ],
   "source": [
    "# From Scipy docs:\n",
    "# \"Calculate the t-test on TWO INDIPENDENT samples of scores, a and b\"\n",
    "# for two related samples of scores, see ttest_rel().\n",
    "t_statistic, p_value = ttest_ind(a=scores_BNB, b=scores_MNB, axis=0)\n",
    "\n",
    "alpha = 0.05\n",
    "\n",
    "print('Alpha: {0:.3f}'.format(alpha))\n",
    "print('T-statistic: {0}'.format(t_statistic))\n",
    "print('P-value: {0:.3f}'.format(p_value))\n",
    "\n",
    "if p_value > alpha:\n",
    "    print('\\nP-value >= Alpha ---> Same distribution (fail to reject H0)')\n",
    "else:\n",
    "    print('\\nP-value <= Alpha ---> Different distribution (reject H0)')"
   ]
  }
 ],
 "metadata": {
  "anaconda-cloud": {},
  "colab": {
   "name": "classification_twitter_emotions_loading_data.ipynb",
   "provenance": []
  },
  "kernelspec": {
   "display_name": "Python 3",
   "language": "python",
   "name": "python3"
  },
  "language_info": {
   "codemirror_mode": {
    "name": "ipython",
    "version": 3
   },
   "file_extension": ".py",
   "mimetype": "text/x-python",
   "name": "python",
   "nbconvert_exporter": "python",
   "pygments_lexer": "ipython3",
   "version": "3.8.6"
  }
 },
 "nbformat": 4,
 "nbformat_minor": 4
}
